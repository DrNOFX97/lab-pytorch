{
 "cells": [
  {
   "cell_type": "markdown",
   "id": "49b68a6a-8d82-4210-8c0a-0a6eaa49f62e",
   "metadata": {},
   "source": [
    "# Pytorch exercises"
   ]
  },
  {
   "cell_type": "markdown",
   "id": "1094e566-47c6-4ab1-9035-a023efd5fb43",
   "metadata": {},
   "source": [
    "Exercise 1: Write a PyTorch code to create a tensor of size (3, 3) filled with random values between 0 and 1."
   ]
  },
  {
   "cell_type": "code",
   "execution_count": 3,
   "id": "bf482c64-4837-42ad-891b-0bd255774130",
   "metadata": {},
   "outputs": [
    {
     "name": "stdout",
     "output_type": "stream",
     "text": [
      "tensor([[0.2182, 0.6221, 0.5056],\n",
      "        [0.2018, 0.4751, 0.0407],\n",
      "        [0.6243, 0.4082, 0.5205]])\n"
     ]
    }
   ],
   "source": [
    "import torch\n",
    "\n",
    "tensor1 = torch.rand(3, 3)\n",
    "print(tensor1)"
   ]
  },
  {
   "cell_type": "markdown",
   "id": "9098d6da-dab2-4295-8800-1144dc621aa1",
   "metadata": {},
   "source": [
    "Exercise 2:\n",
    "Create a tensor of size (5, 2) filled with zeros."
   ]
  },
  {
   "cell_type": "code",
   "execution_count": 5,
   "id": "e30e1f1d-ecab-4897-8368-63b9cf7a4327",
   "metadata": {},
   "outputs": [
    {
     "name": "stdout",
     "output_type": "stream",
     "text": [
      "tensor([[0., 0.],\n",
      "        [0., 0.],\n",
      "        [0., 0.],\n",
      "        [0., 0.],\n",
      "        [0., 0.]])\n"
     ]
    }
   ],
   "source": [
    "tensor2 = torch.zeros(5, 2)\n",
    "print(tensor2)"
   ]
  },
  {
   "cell_type": "markdown",
   "id": "20f77911-49bc-4086-9dcc-6e59543a2216",
   "metadata": {},
   "source": [
    "Exercise 3:\n",
    "Implement a PyTorch code to multiply two tensors of size (2, 3) and (3, 4) respectively."
   ]
  },
  {
   "cell_type": "code",
   "execution_count": 7,
   "id": "9328ba70-5ec3-4731-a565-7872e92e73b7",
   "metadata": {},
   "outputs": [
    {
     "name": "stdout",
     "output_type": "stream",
     "text": [
      "tensor([[-0.4332, -0.6936,  0.9672, -0.8428],\n",
      "        [-0.0693, -0.0397,  0.9619, -0.1997]])\n"
     ]
    }
   ],
   "source": [
    "tensor3a = torch.randn(2, 3)\n",
    "tensor3b = torch.randn(3, 4)\n",
    "result = torch.mm(tensor3a, tensor3b)\n",
    "print(result)"
   ]
  },
  {
   "cell_type": "markdown",
   "id": "b7e71a2d-8c07-49d6-bde9-f40628bff3f5",
   "metadata": {},
   "source": [
    "Exercise 4:\n",
    "Create a PyTorch tensor with values ranging from 5 to 10."
   ]
  },
  {
   "cell_type": "code",
   "execution_count": 9,
   "id": "58d3700e-c62b-4808-860d-56953bed64a0",
   "metadata": {},
   "outputs": [
    {
     "name": "stdout",
     "output_type": "stream",
     "text": [
      "tensor([ 5,  6,  7,  8,  9, 10])\n"
     ]
    }
   ],
   "source": [
    "tensor4 = torch.arange(5, 11)\n",
    "print(tensor4)"
   ]
  },
  {
   "cell_type": "markdown",
   "id": "f97b337b-6277-42d2-b3e3-fd8a0afe9d34",
   "metadata": {},
   "source": [
    "Exercise 5:\n",
    "Write a PyTorch code to compute the mean of a tensor."
   ]
  },
  {
   "cell_type": "code",
   "execution_count": 11,
   "id": "bc6f60f4-0c10-4e64-9c08-f50bd64997f9",
   "metadata": {},
   "outputs": [
    {
     "name": "stdout",
     "output_type": "stream",
     "text": [
      "tensor(-0.1976)\n"
     ]
    }
   ],
   "source": [
    "tensor5 = torch.randn(3, 3)\n",
    "mean_value = torch.mean(tensor5)\n",
    "print(mean_value)"
   ]
  },
  {
   "cell_type": "markdown",
   "id": "6d9025a2-86df-469e-905d-5ae2189d2882",
   "metadata": {},
   "source": [
    "Exercise 6:\n",
    "Implement a PyTorch code to compute the element-wise product of two tensors of the same size."
   ]
  },
  {
   "cell_type": "code",
   "execution_count": 13,
   "id": "a3ab9086-8ed8-4af9-ab95-dcb6272e8ab3",
   "metadata": {},
   "outputs": [
    {
     "name": "stdout",
     "output_type": "stream",
     "text": [
      "tensor([[ 0.0989, -0.1574],\n",
      "        [ 0.6624,  0.1888]])\n"
     ]
    }
   ],
   "source": [
    "tensor6a = torch.randn(2, 2)\n",
    "tensor6b = torch.randn(2, 2)\n",
    "result6 = torch.mul(tensor6a, tensor6b)\n",
    "print(result6)"
   ]
  },
  {
   "cell_type": "markdown",
   "id": "6f5d4a20-f9fb-440a-92fa-14c7232954cf",
   "metadata": {},
   "source": [
    "Exercise 7:\n",
    "Create a PyTorch tensor with values sampled from a normal distribution with mean 0 and standard deviation 1."
   ]
  },
  {
   "cell_type": "code",
   "execution_count": 15,
   "id": "1cec8094-b8b1-4891-a740-ea623136c232",
   "metadata": {},
   "outputs": [
    {
     "name": "stdout",
     "output_type": "stream",
     "text": [
      "tensor([[ 0.8983, -1.1774,  0.2870],\n",
      "        [ 0.5858,  0.7028,  0.8054],\n",
      "        [-1.1134,  0.9434, -1.9639]])\n"
     ]
    }
   ],
   "source": [
    "tensor7 = torch.randn(3, 3)\n",
    "print(tensor7)"
   ]
  },
  {
   "cell_type": "markdown",
   "id": "eaaf5142-be8b-41fe-9f5f-93d76a865c95",
   "metadata": {},
   "source": [
    "Exercise 8:\n",
    "Write a PyTorch code to find the maximum value in a tensor."
   ]
  },
  {
   "cell_type": "code",
   "execution_count": 17,
   "id": "b72a9baa-66c6-4a9f-aaf4-93692f8232a7",
   "metadata": {},
   "outputs": [
    {
     "name": "stdout",
     "output_type": "stream",
     "text": [
      "tensor(1.1131)\n"
     ]
    }
   ],
   "source": [
    "tensor8 = torch.randn(3, 3)\n",
    "max_value = torch.max(tensor8)\n",
    "print(max_value)"
   ]
  },
  {
   "cell_type": "markdown",
   "id": "a0fafddc-7d69-40f0-ac39-ac6f8efd463f",
   "metadata": {},
   "source": [
    "Exercise 9:\n",
    "Implement a PyTorch code to compute the cross entropy loss between predicted values and target values."
   ]
  },
  {
   "cell_type": "code",
   "execution_count": 19,
   "id": "c93efc62-56f5-46c1-8f5b-dccbab4c6c32",
   "metadata": {},
   "outputs": [
    {
     "name": "stdout",
     "output_type": "stream",
     "text": [
      "tensor(2.0503)\n"
     ]
    }
   ],
   "source": [
    "import torch.nn.functional as F\n",
    "\n",
    "predicted = torch.randn(3, 5)\n",
    "target = torch.randint(5, (3,), dtype=torch.long)\n",
    "loss = F.cross_entropy(predicted, target)\n",
    "print(loss)"
   ]
  },
  {
   "cell_type": "markdown",
   "id": "f884a16c-5af5-4d98-9567-19832a24df1a",
   "metadata": {},
   "source": [
    "Exercise 10: Create a PyTorch tensor and then convert it to a NumPy array."
   ]
  },
  {
   "cell_type": "code",
   "execution_count": 21,
   "id": "c15fde84-6c02-47de-8ef9-30e0d08dfee2",
   "metadata": {},
   "outputs": [
    {
     "name": "stdout",
     "output_type": "stream",
     "text": [
      "[[ 0.8135336   1.1654226   0.4304858 ]\n",
      " [-1.2077936  -0.76298255 -0.12160286]\n",
      " [ 0.3398758  -0.41346115  0.6855036 ]]\n"
     ]
    }
   ],
   "source": [
    "import numpy as np\n",
    "\n",
    "tensor10 = torch.randn(3, 3)\n",
    "numpy_array = tensor10.numpy()\n",
    "print(numpy_array)"
   ]
  },
  {
   "cell_type": "markdown",
   "id": "b184819f-0ecb-4a45-a3c2-e8ab40219709",
   "metadata": {},
   "source": [
    "Exercise 11:\n",
    "Write a PyTorch code to perform a matrix transpose operation on a tensor."
   ]
  },
  {
   "cell_type": "code",
   "execution_count": 23,
   "id": "9e626d07-2004-4d1d-8854-7e3160e3b449",
   "metadata": {},
   "outputs": [
    {
     "name": "stdout",
     "output_type": "stream",
     "text": [
      "tensor([[ 0.8470, -0.2229,  0.1899],\n",
      "        [ 1.3707,  0.1109,  1.1725]])\n"
     ]
    }
   ],
   "source": [
    "tensor11 = torch.randn(3, 2)\n",
    "transposed_tensor = torch.transpose(tensor11, 0, 1)\n",
    "print(transposed_tensor)"
   ]
  },
  {
   "cell_type": "markdown",
   "id": "aba9c7e6-954a-4afb-8892-9cc876e1a31c",
   "metadata": {},
   "source": [
    "Exercise 12:\n",
    "Implement a PyTorch code to concatenate two tensors along a specified dimension."
   ]
  },
  {
   "cell_type": "code",
   "execution_count": 25,
   "id": "a102b3e2-54b6-455e-830e-cafd63407c1f",
   "metadata": {},
   "outputs": [
    {
     "name": "stdout",
     "output_type": "stream",
     "text": [
      "tensor([[-0.6639, -1.0550, -1.2528, -0.5588],\n",
      "        [ 0.5661,  0.7213, -1.0413,  0.1325],\n",
      "        [ 0.3294, -1.3455, -1.1731, -0.1193]])\n"
     ]
    }
   ],
   "source": [
    "tensor12a = torch.randn(3, 2)\n",
    "tensor12b = torch.randn(3, 2)\n",
    "concatenated_tensor = torch.cat((tensor12a, tensor12b), dim=1)\n",
    "print(concatenated_tensor)"
   ]
  },
  {
   "cell_type": "markdown",
   "id": "d5cb17dc-1092-475d-b1a8-e788125d8cae",
   "metadata": {},
   "source": [
    "Exercise 13:\n",
    "Create a PyTorch tensor and then convert it to a CUDA tensor if CUDA is available."
   ]
  },
  {
   "cell_type": "code",
   "execution_count": 27,
   "id": "4502b18c-8beb-46cb-ad10-c7045f89fc82",
   "metadata": {},
   "outputs": [
    {
     "name": "stdout",
     "output_type": "stream",
     "text": [
      "CUDA is not available.\n"
     ]
    }
   ],
   "source": [
    "tensor13 = torch.randn(3, 3)\n",
    "if torch.cuda.is_available():\n",
    "    tensor13_cuda = tensor13.cuda()\n",
    "    print(tensor13_cuda)\n",
    "else:\n",
    "    print(\"CUDA is not available.\")"
   ]
  },
  {
   "cell_type": "markdown",
   "id": "5f18a6ee-691d-480b-ae73-d4e1fa118add",
   "metadata": {},
   "source": [
    "Exercise 14:\n",
    "Write a PyTorch code to find the indices of non-zero elements in a tensor."
   ]
  },
  {
   "cell_type": "code",
   "execution_count": 29,
   "id": "6f2f784e-1326-48e5-8875-4044bbfed6ec",
   "metadata": {},
   "outputs": [
    {
     "name": "stdout",
     "output_type": "stream",
     "text": [
      "tensor([[1],\n",
      "        [3],\n",
      "        [5]])\n"
     ]
    }
   ],
   "source": [
    "tensor14 = torch.tensor([0, 1, 0, 2, 0, 3])\n",
    "nonzero_indices = torch.nonzero(tensor14)\n",
    "print(nonzero_indices)"
   ]
  },
  {
   "cell_type": "markdown",
   "id": "57417899-4ff0-466f-9b33-6a2a11161e02",
   "metadata": {},
   "source": [
    "Exercise 15:\n",
    "Implement a PyTorch code to perform element-wise exponentiation on a tensor."
   ]
  },
  {
   "cell_type": "code",
   "execution_count": 31,
   "id": "53414556-3ae0-49c9-80bd-e412173a6328",
   "metadata": {},
   "outputs": [
    {
     "name": "stdout",
     "output_type": "stream",
     "text": [
      "tensor([[1.2789, 3.0478, 9.3578],\n",
      "        [0.0257, 0.5923, 0.5507],\n",
      "        [0.5691, 1.7819, 0.5345]])\n"
     ]
    }
   ],
   "source": [
    "tensor15 = torch.randn(3, 3)\n",
    "exponentiated_tensor = torch.exp(tensor15)\n",
    "print(exponentiated_tensor)"
   ]
  },
  {
   "cell_type": "markdown",
   "id": "535fa4bd-67fe-4fd8-aa8d-e854f2590558",
   "metadata": {},
   "source": [
    "Exercise 16:\n",
    "Create a PyTorch tensor and then reshape it into a tensor of different dimensions."
   ]
  },
  {
   "cell_type": "code",
   "execution_count": 33,
   "id": "36fe95ca-1c55-432d-bd71-d778fc21d6b7",
   "metadata": {},
   "outputs": [
    {
     "name": "stdout",
     "output_type": "stream",
     "text": [
      "tensor([[0, 1, 2],\n",
      "        [3, 4, 5],\n",
      "        [6, 7, 8]])\n"
     ]
    }
   ],
   "source": [
    "tensor16 = torch.arange(9)\n",
    "reshaped_tensor = tensor16.reshape(3, 3)\n",
    "print(reshaped_tensor)"
   ]
  },
  {
   "cell_type": "markdown",
   "id": "4e7b7502-e668-4567-a8b3-5f6bc840beb2",
   "metadata": {},
   "source": [
    "Exercise 17:\n",
    "Write a PyTorch code to compute the cosine similarity between two tensors."
   ]
  },
  {
   "cell_type": "code",
   "execution_count": 35,
   "id": "4f8266c1-3364-47ce-b89e-d659149b006c",
   "metadata": {},
   "outputs": [
    {
     "name": "stdout",
     "output_type": "stream",
     "text": [
      "tensor(0.2285)\n"
     ]
    }
   ],
   "source": [
    "tensor17a = torch.randn(3, 3)\n",
    "tensor17b = torch.randn(3, 3)\n",
    "cos_sim = torch.nn.functional.cosine_similarity(tensor17a.flatten(), tensor17b.flatten(), dim=0)\n",
    "print(cos_sim)"
   ]
  },
  {
   "cell_type": "markdown",
   "id": "d13b01c7-00b0-4e05-a233-3e1177a88f86",
   "metadata": {},
   "source": [
    "Exercise 18: Implement a PyTorch code to perform element-wise logarithm on a tensor."
   ]
  },
  {
   "cell_type": "code",
   "execution_count": 37,
   "id": "5478a746-f171-463c-bcde-3ca2e8bf0440",
   "metadata": {},
   "outputs": [
    {
     "name": "stdout",
     "output_type": "stream",
     "text": [
      "tensor([[-0.3301,  0.1260,  0.3024],\n",
      "        [    nan,     nan, -3.1455],\n",
      "        [    nan, -2.3709, -1.4736]])\n"
     ]
    }
   ],
   "source": [
    "tensor18 = torch.randn(3, 3)\n",
    "logarithm_tensor = torch.log(tensor18)\n",
    "print(logarithm_tensor)"
   ]
  },
  {
   "cell_type": "markdown",
   "id": "f12264f6-d86c-42ca-ab15-6ae5162321e3",
   "metadata": {},
   "source": [
    "Exercise 19:\n",
    "Create a PyTorch tensor and then calculate its standard deviation."
   ]
  },
  {
   "cell_type": "code",
   "execution_count": 39,
   "id": "6fd24d95-6d7f-45b9-83f7-00a95f4d1a05",
   "metadata": {},
   "outputs": [
    {
     "name": "stdout",
     "output_type": "stream",
     "text": [
      "tensor(1.2114)\n"
     ]
    }
   ],
   "source": [
    "tensor19 = torch.randn(3, 3)\n",
    "std_dev = torch.std(tensor19)\n",
    "print(std_dev)"
   ]
  },
  {
   "cell_type": "markdown",
   "id": "da281285-f8ba-4020-ba33-dfeb3524f29c",
   "metadata": {},
   "source": [
    "Exercice 20: Write a PyTorch code to compute the Frobenius norm of a tensor."
   ]
  },
  {
   "cell_type": "code",
   "execution_count": 41,
   "id": "8bd27eee-8270-43d0-a785-9acdbd6424d1",
   "metadata": {
    "tags": []
   },
   "outputs": [
    {
     "name": "stdout",
     "output_type": "stream",
     "text": [
      "tensor(2.5453)\n"
     ]
    }
   ],
   "source": [
    "tensor20 = torch.randn(3, 3)\n",
    "frobenius_norm = torch.norm(tensor20, p='fro')\n",
    "print(frobenius_norm)"
   ]
  }
 ],
 "metadata": {
  "kernelspec": {
   "display_name": "Python 3 (ipykernel)",
   "language": "python",
   "name": "python3"
  },
  "language_info": {
   "codemirror_mode": {
    "name": "ipython",
    "version": 3
   },
   "file_extension": ".py",
   "mimetype": "text/x-python",
   "name": "python",
   "nbconvert_exporter": "python",
   "pygments_lexer": "ipython3",
   "version": "3.11.7"
  }
 },
 "nbformat": 4,
 "nbformat_minor": 5
}
