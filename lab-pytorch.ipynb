{
 "cells": [
  {
   "cell_type": "markdown",
   "id": "49b68a6a-8d82-4210-8c0a-0a6eaa49f62e",
   "metadata": {},
   "source": [
    "# Pytorch exercises"
   ]
  },
  {
   "cell_type": "markdown",
   "id": "1094e566-47c6-4ab1-9035-a023efd5fb43",
   "metadata": {},
   "source": [
    "Exercise 1: Write a PyTorch code to create a tensor of size (3, 3) filled with random values between 0 and 1."
   ]
  },
  {
   "cell_type": "markdown",
   "id": "9098d6da-dab2-4295-8800-1144dc621aa1",
   "metadata": {},
   "source": [
    "Exercise 2:\n",
    "Create a tensor of size (5, 2) filled with zeros."
   ]
  },
  {
   "cell_type": "markdown",
   "id": "20f77911-49bc-4086-9dcc-6e59543a2216",
   "metadata": {},
   "source": [
    "Exercise 3:\n",
    "Implement a PyTorch code to multiply two tensors of size (2, 3) and (3, 4) respectively."
   ]
  },
  {
   "cell_type": "markdown",
   "id": "b7e71a2d-8c07-49d6-bde9-f40628bff3f5",
   "metadata": {},
   "source": [
    "Exercise 4:\n",
    "Create a PyTorch tensor with values ranging from 5 to 10."
   ]
  },
  {
   "cell_type": "markdown",
   "id": "f97b337b-6277-42d2-b3e3-fd8a0afe9d34",
   "metadata": {},
   "source": [
    "Exercise 5:\n",
    "Write a PyTorch code to compute the mean of a tensor."
   ]
  },
  {
   "cell_type": "markdown",
   "id": "6d9025a2-86df-469e-905d-5ae2189d2882",
   "metadata": {},
   "source": [
    "Exercise 6:\n",
    "Implement a PyTorch code to compute the element-wise product of two tensors of the same size."
   ]
  },
  {
   "cell_type": "markdown",
   "id": "6f5d4a20-f9fb-440a-92fa-14c7232954cf",
   "metadata": {},
   "source": [
    "Exercise 7:\n",
    "Create a PyTorch tensor with values sampled from a normal distribution with mean 0 and standard deviation 1."
   ]
  },
  {
   "cell_type": "markdown",
   "id": "eaaf5142-be8b-41fe-9f5f-93d76a865c95",
   "metadata": {},
   "source": [
    "Exercise 8:\n",
    "Write a PyTorch code to find the maximum value in a tensor."
   ]
  },
  {
   "cell_type": "markdown",
   "id": "a0fafddc-7d69-40f0-ac39-ac6f8efd463f",
   "metadata": {},
   "source": [
    "Exercise 9:\n",
    "Implement a PyTorch code to compute the cross entropy loss between predicted values and target values."
   ]
  },
  {
   "cell_type": "markdown",
   "id": "f884a16c-5af5-4d98-9567-19832a24df1a",
   "metadata": {},
   "source": [
    "Exercise 10: Create a PyTorch tensor and then convert it to a NumPy array."
   ]
  },
  {
   "cell_type": "markdown",
   "id": "b184819f-0ecb-4a45-a3c2-e8ab40219709",
   "metadata": {},
   "source": [
    "Exercise 11:\n",
    "Write a PyTorch code to perform a matrix transpose operation on a tensor."
   ]
  },
  {
   "cell_type": "markdown",
   "id": "aba9c7e6-954a-4afb-8892-9cc876e1a31c",
   "metadata": {},
   "source": [
    "Exercise 12:\n",
    "Implement a PyTorch code to concatenate two tensors along a specified dimension."
   ]
  },
  {
   "cell_type": "markdown",
   "id": "d5cb17dc-1092-475d-b1a8-e788125d8cae",
   "metadata": {},
   "source": [
    "Exercise 13:\n",
    "Create a PyTorch tensor and then convert it to a CUDA tensor if CUDA is available."
   ]
  },
  {
   "cell_type": "markdown",
   "id": "5f18a6ee-691d-480b-ae73-d4e1fa118add",
   "metadata": {},
   "source": [
    "Exercise 14:\n",
    "Write a PyTorch code to find the indices of non-zero elements in a tensor."
   ]
  },
  {
   "cell_type": "markdown",
   "id": "57417899-4ff0-466f-9b33-6a2a11161e02",
   "metadata": {},
   "source": [
    "Exercise 15:\n",
    "Implement a PyTorch code to perform element-wise exponentiation on a tensor."
   ]
  },
  {
   "cell_type": "markdown",
   "id": "535fa4bd-67fe-4fd8-aa8d-e854f2590558",
   "metadata": {},
   "source": [
    "Exercise 16:\n",
    "Create a PyTorch tensor and then reshape it into a tensor of different dimensions."
   ]
  },
  {
   "cell_type": "markdown",
   "id": "4e7b7502-e668-4567-a8b3-5f6bc840beb2",
   "metadata": {},
   "source": [
    "Exercise 17:\n",
    "Write a PyTorch code to compute the cosine similarity between two tensors."
   ]
  },
  {
   "cell_type": "markdown",
   "id": "d13b01c7-00b0-4e05-a233-3e1177a88f86",
   "metadata": {},
   "source": [
    "Exercise 18: Implement a PyTorch code to perform element-wise logarithm on a tensor."
   ]
  },
  {
   "cell_type": "markdown",
   "id": "f12264f6-d86c-42ca-ab15-6ae5162321e3",
   "metadata": {},
   "source": [
    "Exercise 19:\n",
    "Create a PyTorch tensor and then calculate its standard deviation."
   ]
  },
  {
   "cell_type": "markdown",
   "id": "da281285-f8ba-4020-ba33-dfeb3524f29c",
   "metadata": {},
   "source": [
    "Exercice 20: Write a PyTorch code to compute the Frobenius norm of a tensor."
   ]
  },
  {
   "cell_type": "code",
   "execution_count": null,
   "id": "8bd27eee-8270-43d0-a785-9acdbd6424d1",
   "metadata": {},
   "outputs": [],
   "source": []
  }
 ],
 "metadata": {
  "kernelspec": {
   "display_name": "Python 3 (ipykernel)",
   "language": "python",
   "name": "python3"
  },
  "language_info": {
   "codemirror_mode": {
    "name": "ipython",
    "version": 3
   },
   "file_extension": ".py",
   "mimetype": "text/x-python",
   "name": "python",
   "nbconvert_exporter": "python",
   "pygments_lexer": "ipython3",
   "version": "3.11.8"
  }
 },
 "nbformat": 4,
 "nbformat_minor": 5
}
